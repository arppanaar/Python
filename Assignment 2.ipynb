{
 "cells": [
  {
   "cell_type": "code",
   "execution_count": 2,
   "id": "45b83b2e",
   "metadata": {},
   "outputs": [
    {
     "name": "stdout",
     "output_type": "stream",
     "text": [
      "Enter your score56\n",
      "C\n"
     ]
    }
   ],
   "source": [
    "#1\n",
    "\n",
    "score = input(\"Enter your score\")\n",
    "\n",
    "score = int(score)\n",
    "\n",
    "if score < 25:  \n",
    "\n",
    "   print(\"F\")\n",
    "\n",
    "elif score >= 25 and score < 45:  \n",
    "\n",
    "   print(\"E\")\n",
    "\n",
    "elif score >= 45 and score < 50:  \n",
    "\n",
    "   print(\"D\")\n",
    "\n",
    "elif score >= 50 and score < 60:  \n",
    "\n",
    "   print(\"C\")\n",
    "\n",
    "elif score >= 60 and score < 80:  \n",
    "\n",
    "   print(\"B\")\n",
    "\n",
    "else:  \n",
    "\n",
    "   print(\"A\")\n"
   ]
  },
  {
   "cell_type": "code",
   "execution_count": 6,
   "id": "e51ed831",
   "metadata": {},
   "outputs": [
    {
     "name": "stdout",
     "output_type": "stream",
     "text": [
      "John Peter Meera Mini Krishna "
     ]
    }
   ],
   "source": [
    "#2.\n",
    "Names = ['John', 'Peter', 'Meera', 'Mini', 'Krishna']\n",
    "for i in Names:\n",
    "    #initialize a count variable\n",
    "    count = 0\n",
    "    for j in Names:\n",
    "        #check for repeated characters\n",
    "        if i == j:\n",
    "            count+=1\n",
    "        #if character is found more than 1 time\n",
    "        #brerak the loop\n",
    "        if count > 1:\n",
    "            break\n",
    "    #print for nonrepeating characters\n",
    "    if count == 1:\n",
    "        print(i,end = \" \")\n",
    "        \n"
   ]
  },
  {
   "cell_type": "code",
   "execution_count": 9,
   "id": "e0271592",
   "metadata": {},
   "outputs": [
    {
     "name": "stdout",
     "output_type": "stream",
     "text": [
      "enter the length of the figure5\n",
      "enter the breadth of the figure6\n",
      "the figure is not a square\n"
     ]
    }
   ],
   "source": [
    "#3\n",
    "a=int(input(\"enter the length of the figure\"))\n",
    "\n",
    "b=int(input(\"enter the breadth of the figure\"))\n",
    "\n",
    "if a==b:\n",
    "\n",
    "  print(\"the figure is a square\")\n",
    "\n",
    "else:\n",
    "\n",
    "  print(\"the figure is not a square\")"
   ]
  },
  {
   "cell_type": "code",
   "execution_count": 10,
   "id": "a50dea28",
   "metadata": {},
   "outputs": [
    {
     "name": "stdout",
     "output_type": "stream",
     "text": [
      "Enter the number of classes held: 5\n",
      "Enter the number of classes attended: 5\n",
      "Attendance percentage: 100.0 %\n",
      "Student is allowed to sit in the exam.\n"
     ]
    }
   ],
   "source": [
    "#4\n",
    "classes_held = int(input(\"Enter the number of classes held: \"))\n",
    "classes_attended = int(input(\"Enter the number of classes attended: \"))\n",
    "\n",
    "attendance_percentage = (classes_attended / classes_held) * 100\n",
    "\n",
    "if attendance_percentage < 75:\n",
    "    print(\"Attendance percentage:\", attendance_percentage, \"%\")\n",
    "    print(\"Student is not allowed to sit in the exam.\")\n",
    "else:\n",
    "    print(\"Attendance percentage:\", attendance_percentage, \"%\")\n",
    "    print(\"Student is allowed to sit in the exam.\")\n",
    "\n",
    "\n",
    "\n"
   ]
  },
  {
   "cell_type": "code",
   "execution_count": 11,
   "id": "b580c325",
   "metadata": {},
   "outputs": [
    {
     "name": "stdout",
     "output_type": "stream",
     "text": [
      "Names with non-repeating characters: ['John', 'Krishna']\n"
     ]
    }
   ],
   "source": [
    "#5\n",
    "names = ['John', 'Peter', 'Meera', 'Mini', 'Krishna']\n",
    "result = []\n",
    "\n",
    "for name in names:\n",
    "    if len(name) == len(set(name)):\n",
    "        result.append(name)\n",
    "\n",
    "print(\"Names with non-repeating characters:\", result)"
   ]
  },
  {
   "cell_type": "code",
   "execution_count": 12,
   "id": "d5d1b0e3",
   "metadata": {},
   "outputs": [
    {
     "name": "stdout",
     "output_type": "stream",
     "text": [
      "Enter the length of the list: 3\n",
      "Enter element 1: 5\n",
      "Enter element 2: 7\n",
      "Enter element 3: 7\n",
      "List: [5, 7, 7]\n",
      "Sum of elements: 19\n",
      "Even list: []\n",
      "Odd list: [5, 7, 7]\n"
     ]
    }
   ],
   "source": [
    "#6\n",
    "n = int(input(\"Enter the length of the list: \"))\n",
    "lst = []\n",
    "\n",
    "for i in range(n):\n",
    "    element = int(input(\"Enter element {}: \".format(i + 1)))\n",
    "    lst.append(element)\n",
    "\n",
    "sum_of_elements = sum(lst)\n",
    "even_list = [x for x in lst if x % 2 == 0]\n",
    "odd_list = [x for x in lst if x % 2 != 0]\n",
    "\n",
    "print(\"List:\", lst)\n",
    "print(\"Sum of elements:\", sum_of_elements)\n",
    "print(\"Even list:\", even_list)\n",
    "print(\"Odd list:\", odd_list)\n",
    "\n",
    "\n",
    "\n"
   ]
  },
  {
   "cell_type": "code",
   "execution_count": 19,
   "id": "9fd9a09f",
   "metadata": {},
   "outputs": [
    {
     "name": "stdout",
     "output_type": "stream",
     "text": [
      "welcome to our e-commerce website\n",
      "Enter exit to exit the navigationWhat all items do you have\n",
      "Please use another option\n"
     ]
    },
    {
     "ename": "KeyboardInterrupt",
     "evalue": "Interrupted by user",
     "output_type": "error",
     "traceback": [
      "\u001b[1;31m---------------------------------------------------------------------------\u001b[0m",
      "\u001b[1;31mKeyboardInterrupt\u001b[0m                         Traceback (most recent call last)",
      "\u001b[1;32m~\\AppData\\Local\\Temp\\ipykernel_23224\\502175741.py\u001b[0m in \u001b[0;36m<module>\u001b[1;34m\u001b[0m\n\u001b[0;32m      3\u001b[0m \u001b[1;33m\u001b[0m\u001b[0m\n\u001b[0;32m      4\u001b[0m \u001b[1;32mwhile\u001b[0m \u001b[1;32mTrue\u001b[0m\u001b[1;33m:\u001b[0m\u001b[1;33m\u001b[0m\u001b[1;33m\u001b[0m\u001b[0m\n\u001b[1;32m----> 5\u001b[1;33m     \u001b[0mx\u001b[0m \u001b[1;33m=\u001b[0m \u001b[0minput\u001b[0m\u001b[1;33m(\u001b[0m\u001b[1;34m'Enter exit to exit the navigation'\u001b[0m\u001b[1;33m)\u001b[0m\u001b[1;33m\u001b[0m\u001b[1;33m\u001b[0m\u001b[0m\n\u001b[0m\u001b[0;32m      6\u001b[0m     \u001b[0mx\u001b[0m\u001b[1;33m=\u001b[0m\u001b[0mx\u001b[0m\u001b[1;33m.\u001b[0m\u001b[0mlower\u001b[0m\u001b[1;33m(\u001b[0m\u001b[1;33m)\u001b[0m\u001b[1;33m\u001b[0m\u001b[1;33m\u001b[0m\u001b[0m\n\u001b[0;32m      7\u001b[0m     \u001b[1;32mif\u001b[0m \u001b[0mx\u001b[0m \u001b[1;33m==\u001b[0m\u001b[1;34m'exit'\u001b[0m\u001b[1;33m:\u001b[0m\u001b[1;33m\u001b[0m\u001b[1;33m\u001b[0m\u001b[0m\n",
      "\u001b[1;32m~\\anaconda3\\lib\\site-packages\\ipykernel\\kernelbase.py\u001b[0m in \u001b[0;36mraw_input\u001b[1;34m(self, prompt)\u001b[0m\n\u001b[0;32m   1175\u001b[0m                 \u001b[1;34m\"raw_input was called, but this frontend does not support input requests.\"\u001b[0m\u001b[1;33m\u001b[0m\u001b[1;33m\u001b[0m\u001b[0m\n\u001b[0;32m   1176\u001b[0m             )\n\u001b[1;32m-> 1177\u001b[1;33m         return self._input_request(\n\u001b[0m\u001b[0;32m   1178\u001b[0m             \u001b[0mstr\u001b[0m\u001b[1;33m(\u001b[0m\u001b[0mprompt\u001b[0m\u001b[1;33m)\u001b[0m\u001b[1;33m,\u001b[0m\u001b[1;33m\u001b[0m\u001b[1;33m\u001b[0m\u001b[0m\n\u001b[0;32m   1179\u001b[0m             \u001b[0mself\u001b[0m\u001b[1;33m.\u001b[0m\u001b[0m_parent_ident\u001b[0m\u001b[1;33m[\u001b[0m\u001b[1;34m\"shell\"\u001b[0m\u001b[1;33m]\u001b[0m\u001b[1;33m,\u001b[0m\u001b[1;33m\u001b[0m\u001b[1;33m\u001b[0m\u001b[0m\n",
      "\u001b[1;32m~\\anaconda3\\lib\\site-packages\\ipykernel\\kernelbase.py\u001b[0m in \u001b[0;36m_input_request\u001b[1;34m(self, prompt, ident, parent, password)\u001b[0m\n\u001b[0;32m   1217\u001b[0m             \u001b[1;32mexcept\u001b[0m \u001b[0mKeyboardInterrupt\u001b[0m\u001b[1;33m:\u001b[0m\u001b[1;33m\u001b[0m\u001b[1;33m\u001b[0m\u001b[0m\n\u001b[0;32m   1218\u001b[0m                 \u001b[1;31m# re-raise KeyboardInterrupt, to truncate traceback\u001b[0m\u001b[1;33m\u001b[0m\u001b[1;33m\u001b[0m\u001b[0m\n\u001b[1;32m-> 1219\u001b[1;33m                 \u001b[1;32mraise\u001b[0m \u001b[0mKeyboardInterrupt\u001b[0m\u001b[1;33m(\u001b[0m\u001b[1;34m\"Interrupted by user\"\u001b[0m\u001b[1;33m)\u001b[0m \u001b[1;32mfrom\u001b[0m \u001b[1;32mNone\u001b[0m\u001b[1;33m\u001b[0m\u001b[1;33m\u001b[0m\u001b[0m\n\u001b[0m\u001b[0;32m   1220\u001b[0m             \u001b[1;32mexcept\u001b[0m \u001b[0mException\u001b[0m\u001b[1;33m:\u001b[0m\u001b[1;33m\u001b[0m\u001b[1;33m\u001b[0m\u001b[0m\n\u001b[0;32m   1221\u001b[0m                 \u001b[0mself\u001b[0m\u001b[1;33m.\u001b[0m\u001b[0mlog\u001b[0m\u001b[1;33m.\u001b[0m\u001b[0mwarning\u001b[0m\u001b[1;33m(\u001b[0m\u001b[1;34m\"Invalid Message:\"\u001b[0m\u001b[1;33m,\u001b[0m \u001b[0mexc_info\u001b[0m\u001b[1;33m=\u001b[0m\u001b[1;32mTrue\u001b[0m\u001b[1;33m)\u001b[0m\u001b[1;33m\u001b[0m\u001b[1;33m\u001b[0m\u001b[0m\n",
      "\u001b[1;31mKeyboardInterrupt\u001b[0m: Interrupted by user"
     ]
    }
   ],
   "source": [
    "#7\n",
    "print('welcome to our e-commerce website')\n",
    "\n",
    "while True:\n",
    "    x = input('Enter exit to exit the navigation')\n",
    "    x=x.lower()\n",
    "    if x =='exit':\n",
    "        print('Thanks for visiting!')\n",
    "        break\n",
    "    y=x.split()\n",
    "    if len(y)==0:\n",
    "        print('Please give a valid input')\n",
    "    elif 'What all items do you have' in y:\n",
    "        print('We have range of products ranging from clothing,cosmetics,medicines and groceries')\n",
    "    elif 'What is the available timings for delivery' in y:\n",
    "        print('We are available from morning 8 am to evening 7 pm')\n",
    "    elif 'Do you have any discount' in y:\n",
    "        print('Yes we are offering 10-50% offer on all products')\n",
    "    else:\n",
    "        print('Please use another option')\n",
    "    \n",
    "    "
   ]
  },
  {
   "cell_type": "code",
   "execution_count": 4,
   "id": "60e862ef",
   "metadata": {},
   "outputs": [
    {
     "name": "stdout",
     "output_type": "stream",
     "text": [
      "Quadratic function : (a * x^2) + b*x + c\n",
      "Enter a: 5\n",
      "Enter b: 8\n",
      "Enter c: 8\n",
      "No roots, discriminant < 0.\n"
     ]
    },
    {
     "ename": "NameError",
     "evalue": "name 'x1' is not defined",
     "output_type": "error",
     "traceback": [
      "\u001b[1;31m---------------------------------------------------------------------------\u001b[0m",
      "\u001b[1;31mNameError\u001b[0m                                 Traceback (most recent call last)",
      "\u001b[1;32m~\\AppData\\Local\\Temp\\ipykernel_31520\\3595093479.py\u001b[0m in \u001b[0;36m<module>\u001b[1;34m\u001b[0m\n\u001b[0;32m     23\u001b[0m     \u001b[0mexit\u001b[0m\u001b[1;33m(\u001b[0m\u001b[1;33m)\u001b[0m\u001b[1;33m\u001b[0m\u001b[1;33m\u001b[0m\u001b[0m\n\u001b[0;32m     24\u001b[0m \u001b[1;33m\u001b[0m\u001b[0m\n\u001b[1;32m---> 25\u001b[1;33m \u001b[0mequation\u001b[0m \u001b[1;33m=\u001b[0m \u001b[1;33m(\u001b[0m\u001b[0ma\u001b[0m\u001b[1;33m*\u001b[0m\u001b[0mx1\u001b[0m\u001b[1;33m*\u001b[0m\u001b[0mx1\u001b[0m\u001b[1;33m)\u001b[0m \u001b[1;33m+\u001b[0m \u001b[1;33m(\u001b[0m\u001b[0mb\u001b[0m\u001b[1;33m*\u001b[0m\u001b[0mx1\u001b[0m\u001b[1;33m)\u001b[0m \u001b[1;33m+\u001b[0m \u001b[0mc\u001b[0m\u001b[1;33m\u001b[0m\u001b[1;33m\u001b[0m\u001b[0m\n\u001b[0m\u001b[0;32m     26\u001b[0m \u001b[0mequation\u001b[0m \u001b[1;33m=\u001b[0m \u001b[1;33m(\u001b[0m\u001b[0ma\u001b[0m\u001b[1;33m*\u001b[0m\u001b[0mx2\u001b[0m\u001b[1;33m*\u001b[0m\u001b[0mx2\u001b[0m\u001b[1;33m)\u001b[0m \u001b[1;33m+\u001b[0m \u001b[1;33m(\u001b[0m\u001b[0mb\u001b[0m\u001b[1;33m*\u001b[0m\u001b[0mx2\u001b[0m\u001b[1;33m)\u001b[0m \u001b[1;33m+\u001b[0m \u001b[0mc\u001b[0m\u001b[1;33m\u001b[0m\u001b[1;33m\u001b[0m\u001b[0m\n\u001b[0;32m     27\u001b[0m \u001b[1;33m\u001b[0m\u001b[0m\n",
      "\u001b[1;31mNameError\u001b[0m: name 'x1' is not defined"
     ]
    }
   ],
   "source": [
    "#8\n",
    "import math\n",
    "\n",
    "print(\"Quadratic function : (a * x^2) + b*x + c\")\n",
    "a = float(input(\"Enter a: \"))\n",
    "b = float(input(\"Enter b: \"))\n",
    "c = float(input(\"Enter c: \"))\n",
    "\n",
    "r = b**2 - 4*a*c\n",
    "\n",
    "if r > 0:\n",
    "    num_roots = 2\n",
    "    x1 = (((-b) + math.sqrt(r))/(2*a))     \n",
    "    x2 = (((-b) - math.sqrt(r))/(2*a))\n",
    "    print(\"There are 2 roots: %f and %f\" % (x1, x2))\n",
    "elif r == 0:\n",
    "    num_roots = 1\n",
    "    x = (-b) / 2*a\n",
    "    print(\"There is one root: \", x)\n",
    "else:\n",
    "    num_roots = 0\n",
    "    print(\"No roots, discriminant < 0.\")\n",
    "    exit()\n",
    "\n",
    "equation = (a*x1*x1) + (b*x1) + c\n",
    "equation = (a*x2*x2) + (b*x2) + c\n",
    "\n",
    "\n",
    "\n"
   ]
  },
  {
   "cell_type": "code",
   "execution_count": 1,
   "id": "c4abe7d1",
   "metadata": {},
   "outputs": [
    {
     "name": "stdout",
     "output_type": "stream",
     "text": [
      "Current Number:  1 Previous Number:  0 Sum:  1\n",
      "Current Number:  2 Previous Number:  1 Sum:  3\n",
      "Current Number:  3 Previous Number:  2 Sum:  5\n",
      "Current Number:  4 Previous Number:  3 Sum:  7\n",
      "Current Number:  5 Previous Number:  4 Sum:  9\n",
      "Current Number:  6 Previous Number:  5 Sum:  11\n",
      "Current Number:  7 Previous Number:  6 Sum:  13\n",
      "Current Number:  8 Previous Number:  7 Sum:  15\n",
      "Current Number:  9 Previous Number:  8 Sum:  17\n",
      "Current Number:  10 Previous Number:  9 Sum:  19\n"
     ]
    }
   ],
   "source": [
    "#8\n",
    "start = 1\n",
    "end = 10\n",
    "previous = 0\n",
    "\n",
    "for current in range(start, end + 1):\n",
    "    sum = previous + current\n",
    "    print(\"Current Number: \", current, \"Previous Number: \", previous, \"Sum: \", sum)\n",
    "    previous = current"
   ]
  },
  {
   "cell_type": "code",
   "execution_count": 2,
   "id": "7525a3d5",
   "metadata": {},
   "outputs": [
    {
     "name": "stdout",
     "output_type": "stream",
     "text": [
      "Enter the start of the range: 2\n",
      "Enter the end of the range: 54\n",
      "Prime numbers in the given range:\n",
      "2\n",
      "3\n",
      "5\n",
      "7\n",
      "11\n",
      "13\n",
      "17\n",
      "19\n",
      "23\n",
      "29\n",
      "31\n",
      "37\n",
      "41\n",
      "43\n",
      "47\n",
      "53\n"
     ]
    }
   ],
   "source": [
    "#9\n",
    "start = int(input(\"Enter the start of the range: \"))\n",
    "end = int(input(\"Enter the end of the range: \"))\n",
    "\n",
    "print(\"Prime numbers in the given range:\")\n",
    "for num in range(start, end + 1):\n",
    "   if num > 1:\n",
    "       for i in range(2, num):\n",
    "           if (num % i) == 0:\n",
    "               break\n",
    "       else:\n",
    "           print(num)\n"
   ]
  },
  {
   "cell_type": "code",
   "execution_count": 1,
   "id": "df5ae839",
   "metadata": {},
   "outputs": [
    {
     "name": "stdout",
     "output_type": "stream",
     "text": [
      "Enter the start of the range: 4\n",
      "Enter the end of the range: 9\n",
      "Fibonacci series in the given range:\n",
      "3\n",
      "5\n",
      "8\n",
      "13\n",
      "21\n"
     ]
    }
   ],
   "source": [
    "#10\n",
    "start = int(input(\"Enter the start of the range: \"))\n",
    "end = int(input(\"Enter the end of the range: \"))\n",
    "\n",
    "def Fibonacci(n):\n",
    "    if n < 0:\n",
    "        print(\"Incorrect input\")\n",
    "    elif n == 0:\n",
    "        return 0\n",
    "    elif n == 1 or n == 2:\n",
    "        return 1\n",
    "    else:\n",
    "        return Fibonacci(n-1) + Fibonacci(n-2)\n",
    "\n",
    "print(\"Fibonacci series in the given range:\")\n",
    "for i in range(start, end):\n",
    "    print(Fibonacci(i))"
   ]
  },
  {
   "cell_type": "code",
   "execution_count": null,
   "id": "214d0857",
   "metadata": {},
   "outputs": [],
   "source": []
  }
 ],
 "metadata": {
  "kernelspec": {
   "display_name": "Python 3 (ipykernel)",
   "language": "python",
   "name": "python3"
  },
  "language_info": {
   "codemirror_mode": {
    "name": "ipython",
    "version": 3
   },
   "file_extension": ".py",
   "mimetype": "text/x-python",
   "name": "python",
   "nbconvert_exporter": "python",
   "pygments_lexer": "ipython3",
   "version": "3.9.13"
  }
 },
 "nbformat": 4,
 "nbformat_minor": 5
}
