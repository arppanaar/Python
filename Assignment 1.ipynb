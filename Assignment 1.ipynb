{
 "cells": [
  {
   "cell_type": "code",
   "execution_count": 2,
   "id": "a439c39e",
   "metadata": {},
   "outputs": [
    {
     "name": "stdout",
     "output_type": "stream",
     "text": [
      "Enter the name: ritu\n",
      "Enter the roll number: 45\n",
      "Enter the mark: 68\n",
      "Name:  ritu\n",
      "Roll No:  45\n",
      "Mark:  68\n"
     ]
    }
   ],
   "source": [
    "#1\n",
    "name = input(\"Enter the name: \")\n",
    "rn = input(\"Enter the roll number: \")\n",
    "mark = input(\"Enter the mark: \")\n",
    "\n",
    "print(\"Name: \", name)\n",
    "print(\"Roll No: \", rn)\n",
    "print(\"Mark: \", mark)\n"
   ]
  },
  {
   "cell_type": "code",
   "execution_count": 11,
   "id": "77cf484e",
   "metadata": {},
   "outputs": [
    {
     "name": "stdout",
     "output_type": "stream",
     "text": [
      "Enter temperature in celsius: 45\n",
      "Fahrenheit 113.0\n"
     ]
    }
   ],
   "source": [
    "#2\n",
    "celsius = float(input(\"Enter temperature in celsius: \"))\n",
    "fahrenheit = (celsius * 9/5) + 32\n",
    "print(\"Fahrenheit\",fahrenheit)"
   ]
  },
  {
   "cell_type": "code",
   "execution_count": 12,
   "id": "454304a5",
   "metadata": {},
   "outputs": [
    {
     "name": "stdout",
     "output_type": "stream",
     "text": [
      "Enter temperature in farenheit: 101.3\n",
      "celsius 45.0\n"
     ]
    }
   ],
   "source": [
    "Farenheit = float(input(\"Enter temperature in farenheit: \"))\n",
    "celsius = (fahrenheit - 32) * 5/9\n",
    "print(\"celsius\",celsius)"
   ]
  },
  {
   "cell_type": "code",
   "execution_count": 14,
   "id": "5f645e53",
   "metadata": {},
   "outputs": [
    {
     "name": "stdout",
     "output_type": "stream",
     "text": [
      "Enter first number 3\n",
      "Enter second number 4\n",
      "product of 2 numbers  12.0\n"
     ]
    }
   ],
   "source": [
    "#3\n",
    "number1=float(input(\"Enter first number \"))\n",
    "number2=float(input(\"Enter second number \"))\n",
    "product=number1*number2\n",
    "print(\"product of 2 numbers \", product)"
   ]
  },
  {
   "cell_type": "code",
   "execution_count": 29,
   "id": "9ef4af2f",
   "metadata": {
    "scrolled": true
   },
   "outputs": [
    {
     "name": "stdout",
     "output_type": "stream",
     "text": [
      "Enter a sentence: Learn python by developing a website\n",
      "Learn **python** by developing a **website**\n"
     ]
    }
   ],
   "source": [
    "#4\n",
    "s = input(\"Enter a sentence: \")\n",
    "n_s = s.replace(\"python\" , \"**python**\")\n",
    "m_s = n_s.replace(\"website\" , \"**website**\")\n",
    "print(m_s)"
   ]
  },
  {
   "cell_type": "code",
   "execution_count": 30,
   "id": "c5e3eedc",
   "metadata": {},
   "outputs": [
    {
     "name": "stdout",
     "output_type": "stream",
     "text": [
      "Enter the radius of the circle: 5\n",
      "The area of the circle is:  78.53981633974483\n"
     ]
    }
   ],
   "source": [
    "#5\n",
    "import math\n",
    "\n",
    "radius = float(input(\"Enter the radius of the circle: \"))\n",
    "area = math.pi * radius**2\n",
    "\n",
    "print(\"The area of the circle is: \", area)\n"
   ]
  },
  {
   "cell_type": "code",
   "execution_count": 32,
   "id": "5ba63f61",
   "metadata": {},
   "outputs": [
    {
     "name": "stdout",
     "output_type": "stream",
     "text": [
      "Enter the number to be inserted: 45\n",
      "Enter the position to insert the number: 5\n",
      "The list after inserting the number:  [3, 4, 5, 6, 7, 45]\n"
     ]
    }
   ],
   "source": [
    "#6\n",
    "numbers = [3,4,5,6,7]\n",
    "num = int(input(\"Enter the number to be inserted: \"))\n",
    "pos = int(input(\"Enter the position to insert the number: \"))\n",
    "\n",
    "numbers += [3,4,5,6,7] * (pos - len(numbers) - 1)\n",
    "numbers.append(num)\n",
    "\n",
    "print(\"The list after inserting the number: \", numbers)"
   ]
  },
  {
   "cell_type": "code",
   "execution_count": 33,
   "id": "58f19d94",
   "metadata": {},
   "outputs": [
    {
     "name": "stdout",
     "output_type": "stream",
     "text": [
      "The updated dictionary:  {'name': 'John', 'age': 5, 'salary': 8000, 'location': 'New York'}\n"
     ]
    }
   ],
   "source": [
    "#7\n",
    "sample_dict = { \"name\": \"John\", \"age\": 5, \"salary\": 8000, \"city\": \"New York\"}\n",
    "\n",
    "sample_dict[\"location\"] = sample_dict.pop(\"city\")\n",
    "\n",
    "print(\"The updated dictionary: \", sample_dict)"
   ]
  },
  {
   "cell_type": "code",
   "execution_count": 34,
   "id": "bf5bfec8",
   "metadata": {},
   "outputs": [
    {
     "name": "stdout",
     "output_type": "stream",
     "text": [
      "The updated dictionary:  {'emp1': {'name': 'John', 'salary': 7500}, 'emp2': {'name': 'Emma', 'salary': 8000}, 'emp3': {'name': 'Brad', 'salary': 8500}}\n"
     ]
    }
   ],
   "source": [
    "#8\n",
    "sample_dict = {\n",
    "'emp1': {'name': 'John', 'salary': 7500},\n",
    "'emp2': {'name': 'Emma', 'salary': 8000},\n",
    "'emp3': {'name': 'Brad', 'salary': 500}\n",
    "}\n",
    "\n",
    "sample_dict['emp3']['salary'] = 8500\n",
    "\n",
    "print(\"The updated dictionary: \", sample_dict)"
   ]
  },
  {
   "cell_type": "code",
   "execution_count": 35,
   "id": "732cc3f7",
   "metadata": {},
   "outputs": [
    {
     "name": "stdout",
     "output_type": "stream",
     "text": [
      "The new tuple:  (43, 54)\n"
     ]
    }
   ],
   "source": [
    "#9\n",
    "tuple1 = (10, 20, 43, 54, 56, 68)\n",
    "new_tuple = (43, 54)\n",
    "\n",
    "print(\"The new tuple: \", new_tuple)"
   ]
  },
  {
   "cell_type": "code",
   "execution_count": 36,
   "id": "75c1e300",
   "metadata": {},
   "outputs": [
    {
     "name": "stdout",
     "output_type": "stream",
     "text": [
      "The number of occurrences of 50 in the tuple:  3\n"
     ]
    }
   ],
   "source": [
    "#10\n",
    "tuple1 = (50, 10, 60, 70, 50, 83, 567, 50, 81)\n",
    "count = tuple1.count(50)\n",
    "\n",
    "print(\"The number of occurrences of 50 in the tuple: \", count)\n"
   ]
  },
  {
   "cell_type": "code",
   "execution_count": null,
   "id": "e1459f18",
   "metadata": {},
   "outputs": [],
   "source": []
  }
 ],
 "metadata": {
  "kernelspec": {
   "display_name": "Python 3 (ipykernel)",
   "language": "python",
   "name": "python3"
  },
  "language_info": {
   "codemirror_mode": {
    "name": "ipython",
    "version": 3
   },
   "file_extension": ".py",
   "mimetype": "text/x-python",
   "name": "python",
   "nbconvert_exporter": "python",
   "pygments_lexer": "ipython3",
   "version": "3.9.13"
  }
 },
 "nbformat": 4,
 "nbformat_minor": 5
}
