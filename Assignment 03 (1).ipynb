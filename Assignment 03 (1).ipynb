{
 "cells": [
  {
   "cell_type": "code",
   "execution_count": 11,
   "id": "01aa6589",
   "metadata": {},
   "outputs": [
    {
     "name": "stdout",
     "output_type": "stream",
     "text": [
      "Enter a list of numbers, separated by spaces: 4 6 7 8 \n",
      "The sum of the numbers is: 25\n"
     ]
    }
   ],
   "source": [
    "#1\n",
    "\n",
    "\n",
    "input_string = input(\"Enter a list of numbers, separated by spaces: \")\n",
    "\n",
    "\n",
    "num_strings = input_string.split()\n",
    "\n",
    "\n",
    "numbers = [int(num) for num in num_strings]\n",
    "\n",
    "\n",
    "total = sum_list(numbers)\n",
    "\n",
    "print(\"The sum of the numbers is:\", total)"
   ]
  },
  {
   "cell_type": "code",
   "execution_count": 14,
   "id": "c8dc056e",
   "metadata": {},
   "outputs": [
    {
     "name": "stdout",
     "output_type": "stream",
     "text": [
      "Please enter your own text : malayalam\n",
      "This is a Palindrome\n"
     ]
    }
   ],
   "source": [
    "#2\n",
    "\n",
    "st = input(\"Please enter your own text : \")\n",
    "\n",
    "if(st == st[:: - 1]):\n",
    "   print(\"This is a Palindrome\")\n",
    "else:\n",
    "   print(\"This is Not a Palindrome\")"
   ]
  },
  {
   "cell_type": "code",
   "execution_count": 15,
   "id": "e3b7d7f7",
   "metadata": {},
   "outputs": [
    {
     "name": "stdout",
     "output_type": "stream",
     "text": [
      "Enter the limit for the Fibonacci series: 4\n",
      "[0, 1, 1, 2]\n"
     ]
    }
   ],
   "source": [
    "#3\n",
    "def fibonacci(n):\n",
    "    if n <= 1:\n",
    "        return n\n",
    "    else:\n",
    "        return fibonacci(n-1) + fibonacci(n-2)\n",
    "\n",
    "\n",
    "limit = int(input(\"Enter the limit for the Fibonacci series: \"))\n",
    "\n",
    "\n",
    "\n",
    "fib_series = []\n",
    "for i in range(limit):\n",
    "    fib_series.append(fibonacci(i))\n",
    "print(fib_series)\n",
    "\n"
   ]
  },
  {
   "cell_type": "code",
   "execution_count": 16,
   "id": "2886f0aa",
   "metadata": {},
   "outputs": [
    {
     "name": "stdout",
     "output_type": "stream",
     "text": [
      "Enter the number: 4\n",
      "Multiplication Table of 4\n",
      "4 X 1 = 4\n",
      "4 X 2 = 8\n",
      "4 X 3 = 12\n",
      "4 X 4 = 16\n",
      "4 X 5 = 20\n",
      "4 X 6 = 24\n",
      "4 X 7 = 28\n",
      "4 X 8 = 32\n",
      "4 X 9 = 36\n",
      "4 X 10 = 40\n"
     ]
    }
   ],
   "source": [
    "#4\n",
    "num = int(input(\"Enter the number: \"))\n",
    "\n",
    "print(\"Multiplication Table of\", num)\n",
    "for i in range(1, 11):\n",
    "   print(num,\"X\",i,\"=\",num * i)"
   ]
  },
  {
   "cell_type": "code",
   "execution_count": 18,
   "id": "eb604441",
   "metadata": {},
   "outputs": [
    {
     "name": "stdout",
     "output_type": "stream",
     "text": [
      "Please enter a string as you wish: arppana\n",
      "The number of vowels: 3\n",
      "\n",
      "The number of consonant: 4\n"
     ]
    }
   ],
   "source": [
    "#5\n",
    "str=input(\"Please enter a string as you wish: \");\n",
    "vowels=0\n",
    "consonants=0\n",
    "str.lower()\n",
    "for i in str:\n",
    "    if(i == 'a'or i == 'e'or i == 'i'or i == 'o'or i == 'u' ):\n",
    "           vowels=vowels+1;\n",
    "    else:\n",
    "        consonants=consonants+1;\n",
    "print(\"The number of vowels:\",vowels);\n",
    "print(\"\\nThe number of consonant:\",consonants);"
   ]
  },
  {
   "cell_type": "code",
   "execution_count": 23,
   "id": "c1a7ed05",
   "metadata": {},
   "outputs": [
    {
     "name": "stdout",
     "output_type": "stream",
     "text": [
      "Enter anythingdance\n",
      "DANCE\n"
     ]
    }
   ],
   "source": [
    "#6\n",
    "def convert_to_uppercase(word):\n",
    "    return word.upper()\n",
    "word = input(\"Enter anything\")\n",
    "uppercase_word = convert_to_uppercase(word)\n",
    "print(uppercase_word)  "
   ]
  },
  {
   "cell_type": "code",
   "execution_count": 1,
   "id": "4c0d615f",
   "metadata": {},
   "outputs": [
    {
     "name": "stdout",
     "output_type": "stream",
     "text": [
      "Original list:  [12, 0, None, 23, None, -55, 234, 89, None, 0, 6, -12]\n",
      "List with None values removed:  [12, 0, 23, -55, 234, 89, 0, 6, -12]\n"
     ]
    }
   ],
   "source": [
    "#7\n",
    "\n",
    "li = [12, 0, None, 23, None, -55, 234, 89, None, 0, 6, -12]\n",
    "\n",
    "final = list(filter(lambda x: x is not None, li))\n",
    "\n",
    "print(\"Original list: \", li)\n",
    "print(\"List with None values removed: \", final)\n",
    "\n",
    "\n",
    "\n"
   ]
  },
  {
   "cell_type": "code",
   "execution_count": 52,
   "id": "62e47c9c",
   "metadata": {},
   "outputs": [
    {
     "name": "stdout",
     "output_type": "stream",
     "text": [
      "Length: 10\n",
      "Width: 5\n",
      "Perimeter: 30\n",
      "Area: 50\n",
      "Length: 10\n",
      "Width: 5\n",
      "Perimeter: 30\n",
      "Area: 50\n",
      "Height: 3\n",
      "Volume: 150\n"
     ]
    }
   ],
   "source": [
    "#8\n",
    "class Rectangle:\n",
    "    def __init__(self, length, width):\n",
    "        self.length = length\n",
    "        self.width = width\n",
    "        \n",
    "    def perimeter(self):\n",
    "        return 2 * (self.length + self.width)\n",
    "    \n",
    "    def area(self):\n",
    "        return self.length * self.width\n",
    "    \n",
    "    def display(self):\n",
    "        print(f\"Length: {self.length}\")\n",
    "        print(f\"Width: {self.width}\")\n",
    "        print(f\"Perimeter: {self.perimeter()}\")\n",
    "        print(f\"Area: {self.area()}\")\n",
    "\n",
    "class Parallelepiped(Rectangle):\n",
    "    def __init__(self, length, width, height):\n",
    "        super().__init__(length, width)\n",
    "        self.height = height\n",
    "        \n",
    "    def volume(self):\n",
    "        return self.length * self.width * self.height\n",
    "    \n",
    "    def display(self):\n",
    "        super().display()\n",
    "        print(f\"Height: {self.height}\")\n",
    "        print(f\"Volume: {self.volume()}\")\n",
    "\n",
    "# Example usage of the classes\n",
    "rect = Rectangle(10, 5)\n",
    "rect.display()\n",
    "\n",
    "para = Parallelepiped(10, 5, 3)\n",
    "para.display()\n"
   ]
  },
  {
   "cell_type": "code",
   "execution_count": 57,
   "id": "25472785",
   "metadata": {},
   "outputs": [
    {
     "name": "stdout",
     "output_type": "stream",
     "text": [
      "Deposited 500. New balance is 1500.\n",
      "Withdrawn 200. New balance is 1300.\n",
      "Bank fees of 65.0 applied. New balance is 1235.0.\n",
      "Account Number: 123456\n",
      "Account Name: Athira\n",
      "Account Balance: 1235.0\n"
     ]
    }
   ],
   "source": [
    "#9\n",
    "class BankAccount:\n",
    "    def __init__(self, accountNumber, name, balance):\n",
    "        self.accountNumber = accountNumber\n",
    "        self.name = name\n",
    "        self.balance = balance\n",
    "        \n",
    "    def Deposit(self, amount):\n",
    "        self.balance += amount\n",
    "        print(f\"Deposited {amount}. New balance is {self.balance}.\")\n",
    "    \n",
    "    def Withdrawal(self, amount):\n",
    "        if amount > self.balance:\n",
    "            print(\"Insufficient funds.\")\n",
    "        else:\n",
    "            self.balance -= amount\n",
    "            print(f\"Withdrawn {amount}. New balance is {self.balance}.\")\n",
    "    \n",
    "    def bankFees(self):\n",
    "        fees = self.balance * 0.05\n",
    "        self.balance -= fees\n",
    "        print(f\"Bank fees of {fees} applied. New balance is {self.balance}.\")\n",
    "        \n",
    "    def display(self):\n",
    "        print(f\"Account Number: {self.accountNumber}\")\n",
    "        print(f\"Account Name: {self.name}\")\n",
    "        print(f\"Account Balance: {self.balance}\")\n",
    "        \n",
    "    account = BankAccount(123456, \"Athira\", 1000)\n",
    "\n",
    "    account.Deposit(500)\n",
    "    account.Withdrawal(200)\n",
    "    account.bankFees()\n",
    "    account.display()\n",
    "\n",
    "\n",
    "\n",
    "\n"
   ]
  },
  {
   "cell_type": "code",
   "execution_count": null,
   "id": "08a0a8f7",
   "metadata": {},
   "outputs": [],
   "source": []
  }
 ],
 "metadata": {
  "kernelspec": {
   "display_name": "Python 3 (ipykernel)",
   "language": "python",
   "name": "python3"
  },
  "language_info": {
   "codemirror_mode": {
    "name": "ipython",
    "version": 3
   },
   "file_extension": ".py",
   "mimetype": "text/x-python",
   "name": "python",
   "nbconvert_exporter": "python",
   "pygments_lexer": "ipython3",
   "version": "3.9.13"
  }
 },
 "nbformat": 4,
 "nbformat_minor": 5
}
